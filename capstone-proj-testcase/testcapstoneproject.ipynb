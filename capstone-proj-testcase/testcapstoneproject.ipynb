{
 "cells": [
  {
   "cell_type": "code",
   "execution_count": null,
   "metadata": {},
   "outputs": [],
   "source": [
    "# Load all the required libraries\n",
    "from capstoneproject import *\n",
    "import unittest\n",
    "\n",
    "class TestModelPredict(unittest.TestCase):\n",
    "    def test_mp_info(self):\n",
    "        model_predict(\"false\",\"info\")\n",
    "        self.assertEqual(1, 1)\n",
    "    def test_mp_warn(self):\n",
    "        model_predict(\"false\",\"warn\")\n",
    "        self.assertEqual(1, 1)\n",
    "    def test_mp_error(self):\n",
    "        model_predict(\"false\",\"error\")\n",
    "        self.assertEqual(1, 1)\n",
    "    def test_mp_debug(self):\n",
    "        model_predict(\"false\",\"debug\")\n",
    "        self.assertEqual(1, 1)\n",
    "    def test_mp_critical(self):\n",
    "        model_predict(\"false\",\"critical\")\n",
    "        self.assertEqual(1, 1)"
   ]
  },
  {
   "cell_type": "code",
   "execution_count": null,
   "metadata": {},
   "outputs": [],
   "source": []
  },
  {
   "cell_type": "code",
   "execution_count": null,
   "metadata": {},
   "outputs": [],
   "source": []
  }
 ],
 "metadata": {
  "kernelspec": {
   "display_name": "Python 3",
   "language": "python",
   "name": "python3"
  },
  "language_info": {
   "codemirror_mode": {
    "name": "ipython",
    "version": 3
   },
   "file_extension": ".py",
   "mimetype": "text/x-python",
   "name": "python",
   "nbconvert_exporter": "python",
   "pygments_lexer": "ipython3",
   "version": "3.7.4"
  }
 },
 "nbformat": 4,
 "nbformat_minor": 2
}
