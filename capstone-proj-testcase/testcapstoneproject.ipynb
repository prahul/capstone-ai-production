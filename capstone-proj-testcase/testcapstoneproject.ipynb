{
 "cells": [
  {
   "cell_type": "code",
   "execution_count": 1,
   "metadata": {},
   "outputs": [],
   "source": [
    "# Load all the required libraries\n",
    "from capstoneproject import *\n",
    "import unittest\n",
    "\n",
    "class TestModelPredict(unittest.TestCase):\n",
    "    def test_load_data(self):\n",
    "        #Unit test for data and logging\n",
    "        dataset = load_data(\"false\",\"info\")\n",
    "        self.assertEqual(1, 1)\n",
    "    def test_data_visualization(self):\n",
    "        #Unit tests for visualization\n",
    "        dataset = load_data(\"false\",\"info\")\n",
    "        data_visualization(\"false\",\"info\",dataset)\n",
    "        self.assertEqual(1, 1)\n",
    "    def test_datavalid_models_predict(self):\n",
    "        #Unit tests for seperate data set and models\n",
    "        dataset = load_data(\"false\",\"info\")\n",
    "        datavalid_models_predict(\"false\",\"info\",dataset)\n",
    "        self.assertEqual(1, 1)\n",
    "    def test_api(self):\n",
    "        #Unit test for api\n",
    "        data_model_predict()\n",
    "        self.assertEqual(1, 1)"
   ]
  },
  {
   "cell_type": "code",
   "execution_count": null,
   "metadata": {},
   "outputs": [],
   "source": []
  },
  {
   "cell_type": "code",
   "execution_count": null,
   "metadata": {},
   "outputs": [],
   "source": []
  },
  {
   "cell_type": "code",
   "execution_count": null,
   "metadata": {},
   "outputs": [],
   "source": []
  }
 ],
 "metadata": {
  "kernelspec": {
   "display_name": "Python 3",
   "language": "python",
   "name": "python3"
  },
  "language_info": {
   "codemirror_mode": {
    "name": "ipython",
    "version": 3
   },
   "file_extension": ".py",
   "mimetype": "text/x-python",
   "name": "python",
   "nbconvert_exporter": "python",
   "pygments_lexer": "ipython3",
   "version": "3.7.4"
  }
 },
 "nbformat": 4,
 "nbformat_minor": 2
}
